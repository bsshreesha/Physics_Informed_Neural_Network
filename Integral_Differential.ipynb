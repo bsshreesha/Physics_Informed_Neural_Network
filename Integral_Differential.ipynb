{
  "nbformat": 4,
  "nbformat_minor": 0,
  "metadata": {
    "colab": {
      "provenance": [],
      "authorship_tag": "ABX9TyOarg2EcUG7VGBazMBa1N0q",
      "include_colab_link": true
    },
    "kernelspec": {
      "name": "python3",
      "display_name": "Python 3"
    },
    "language_info": {
      "name": "python"
    }
  },
  "cells": [
    {
      "cell_type": "markdown",
      "metadata": {
        "id": "view-in-github",
        "colab_type": "text"
      },
      "source": [
        "<a href=\"https://colab.research.google.com/github/bsshreesha/Physics_Informed_Neural_Network/blob/main/Integral_Differential.ipynb\" target=\"_parent\"><img src=\"https://colab.research.google.com/assets/colab-badge.svg\" alt=\"Open In Colab\"/></a>"
      ]
    },
    {
      "cell_type": "code",
      "source": [
        "!pip install python-docx"
      ],
      "metadata": {
        "colab": {
          "base_uri": "https://localhost:8080/"
        },
        "id": "_1IkFRpLrYOm",
        "outputId": "0a28beaf-c657-4a2f-9410-c40ea373fdf4"
      },
      "execution_count": 2,
      "outputs": [
        {
          "output_type": "stream",
          "name": "stdout",
          "text": [
            "Collecting python-docx\n",
            "  Downloading python_docx-1.1.2-py3-none-any.whl.metadata (2.0 kB)\n",
            "Requirement already satisfied: lxml>=3.1.0 in /usr/local/lib/python3.11/dist-packages (from python-docx) (5.3.1)\n",
            "Requirement already satisfied: typing-extensions>=4.9.0 in /usr/local/lib/python3.11/dist-packages (from python-docx) (4.13.0)\n",
            "Downloading python_docx-1.1.2-py3-none-any.whl (244 kB)\n",
            "\u001b[?25l   \u001b[90m━━━━━━━━━━━━━━━━━━━━━━━━━━━━━━━━━━━━━━━━\u001b[0m \u001b[32m0.0/244.3 kB\u001b[0m \u001b[31m?\u001b[0m eta \u001b[36m-:--:--\u001b[0m\r\u001b[2K   \u001b[91m━━━━━━━━━━━━━\u001b[0m\u001b[90m╺\u001b[0m\u001b[90m━━━━━━━━━━━━━━━━━━━━━━━━━━\u001b[0m \u001b[32m81.9/244.3 kB\u001b[0m \u001b[31m2.9 MB/s\u001b[0m eta \u001b[36m0:00:01\u001b[0m\r\u001b[2K   \u001b[90m━━━━━━━━━━━━━━━━━━━━━━━━━━━━━━━━━━━━━━━━\u001b[0m \u001b[32m244.3/244.3 kB\u001b[0m \u001b[31m3.6 MB/s\u001b[0m eta \u001b[36m0:00:00\u001b[0m\n",
            "\u001b[?25hInstalling collected packages: python-docx\n",
            "Successfully installed python-docx-1.1.2\n"
          ]
        }
      ]
    },
    {
      "cell_type": "code",
      "execution_count": 3,
      "metadata": {
        "id": "jRUjf7ShrFb8"
      },
      "outputs": [],
      "source": [
        "from docx import Document\n",
        "import re\n",
        "\n",
        "# Load the Word document\n",
        "doc_path = \"Formatted_Integral_Functions.docx\"\n",
        "doc = Document(doc_path)"
      ]
    },
    {
      "cell_type": "code",
      "source": [
        "# Extract equations from the document\n",
        "raw_equations = [para.text.strip() for para in doc.paragraphs if para.text.strip()]\n",
        "\n",
        "# Convert integrals into differential equations\n",
        "differential_equations = []"
      ],
      "metadata": {
        "id": "sCxXPcRwrQbS"
      },
      "execution_count": 4,
      "outputs": []
    },
    {
      "cell_type": "code",
      "source": [
        "for eq in raw_equations:\n",
        "    # Handle basic transformations (limited cases)\n",
        "    if \"x²\" in eq:\n",
        "        differential_equations.append(\"dy/dx = x**2\")\n",
        "    elif \"sin(x)\" in eq:\n",
        "        differential_equations.append(\"dy/dx = sin(x)\")\n",
        "    elif \"1/x\" in eq:\n",
        "        differential_equations.append(\"dy/dx = 1/x\")\n",
        "    elif \"eˣ\" in eq:\n",
        "        differential_equations.append(\"dy/dx = exp(x)\")\n",
        "    elif \"cos²(x)\" in eq:\n",
        "        differential_equations.append(\"dy/dx = cos(x)**2\")\n",
        "    elif \"3x² + 2x + 1\" in eq:\n",
        "        differential_equations.append(\"dy/dx = 3*x**2 + 2*x + 1\")\n",
        "    elif \"ln(x)\" in eq:\n",
        "        differential_equations.append(\"dy/dx = log(x)\")\n",
        "    elif \"1/(1 + x²)\" in eq or \"1/(1 + x^2)\" in eq:\n",
        "        differential_equations.append(\"dy/dx = 1 / (1 + x**2)\")\n",
        "    else:\n",
        "        differential_equations.append(\"Unrecognized: \" + eq)\n",
        "\n",
        "raw_equations, differential_equations"
      ],
      "metadata": {
        "colab": {
          "base_uri": "https://localhost:8080/"
        },
        "id": "dUhynK0GrSxY",
        "outputId": "c5aa9cce-7dda-4870-9354-e567fa8759c4"
      },
      "execution_count": 5,
      "outputs": [
        {
          "output_type": "execute_result",
          "data": {
            "text/plain": [
              "(['Integral Functions',\n",
              "  '∫ x² dx',\n",
              "  '∫ sin(x) dx',\n",
              "  '∫ 1/x dx',\n",
              "  '∫ eˣ dx',\n",
              "  '∫ cos²(x) dx',\n",
              "  '∫₀¹ (3x² + 2x + 1) dx',\n",
              "  '∫ ln(x) dx',\n",
              "  '∫ 1/(1 + x²) dx'],\n",
              " ['Unrecognized: Integral Functions',\n",
              "  'dy/dx = x**2',\n",
              "  'dy/dx = sin(x)',\n",
              "  'dy/dx = 1/x',\n",
              "  'dy/dx = exp(x)',\n",
              "  'dy/dx = cos(x)**2',\n",
              "  'dy/dx = x**2',\n",
              "  'dy/dx = log(x)',\n",
              "  'dy/dx = x**2'])"
            ]
          },
          "metadata": {},
          "execution_count": 5
        }
      ]
    },
    {
      "cell_type": "code",
      "source": [],
      "metadata": {
        "id": "x64SlClDrijT"
      },
      "execution_count": null,
      "outputs": []
    }
  ]
}