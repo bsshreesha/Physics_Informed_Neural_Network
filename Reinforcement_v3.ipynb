{
  "nbformat": 4,
  "nbformat_minor": 0,
  "metadata": {
    "colab": {
      "provenance": [],
      "authorship_tag": "ABX9TyMnM6MKmb6yH08HxhEpo/jy",
      "include_colab_link": true
    },
    "kernelspec": {
      "name": "python3",
      "display_name": "Python 3"
    },
    "language_info": {
      "name": "python"
    }
  },
  "cells": [
    {
      "cell_type": "markdown",
      "metadata": {
        "id": "view-in-github",
        "colab_type": "text"
      },
      "source": [
        "<a href=\"https://colab.research.google.com/github/bsshreesha/Physics_Informed_Neural_Network/blob/main/Reinforcement_v3.ipynb\" target=\"_parent\"><img src=\"https://colab.research.google.com/assets/colab-badge.svg\" alt=\"Open In Colab\"/></a>"
      ]
    },
    {
      "cell_type": "code",
      "source": [
        "# Import necessary libraries\n",
        "import tensorflow as tf\n",
        "import numpy as np\n",
        "import matplotlib.pyplot as plt\n",
        "from sympy import symbols, Eq, diff, latex, Function, sin, cos\n",
        "from sympy.utilities.lambdify import lambdify\n",
        "from IPython.display import display, Math\n",
        "from tensorflow.keras.models import Model\n",
        "from tensorflow.keras.layers import Dense, Input\n",
        "from tensorflow.keras.optimizers import Adam"
      ],
      "metadata": {
        "id": "zZ6bWCHec6bi"
      },
      "execution_count": 71,
      "outputs": []
    },
    {
      "cell_type": "code",
      "source": [
        "# Define the PINN model\n",
        "def build_pinn(input_dim, hidden_layers, neurons_per_layer, output_dim):\n",
        "    inputs = Input(shape=(input_dim,))\n",
        "    x = inputs\n",
        "    for _ in range(hidden_layers):\n",
        "        x = Dense(neurons_per_layer, activation='tanh')(x)\n",
        "    outputs = Dense(output_dim)(x)\n",
        "    return Model(inputs=inputs, outputs=outputs)"
      ],
      "metadata": {
        "id": "3ZoFo0_Ic60B"
      },
      "execution_count": 72,
      "outputs": []
    },
    {
      "cell_type": "code",
      "source": [
        "# Generate equations with initial and boundary conditions\n",
        "def generate_equations_and_conditions():\n",
        "    x, t = symbols('x t')  # Spatial and temporal variables\n",
        "    u = Function('u')(x, t)  # Solution function\n",
        "\n",
        "    equations = []\n",
        "    initial_conditions = []\n",
        "    boundary_conditions = []\n",
        "\n",
        "    for i in range(1, 11):\n",
        "        # Define a PDE: u_tt + k * u_xx = sin(k*x)*cos(k*t)\n",
        "        pde_rhs = sin(i * x) * cos(i * t)\n",
        "        eq = Eq(diff(u, t, 2) + i * diff(u, x, 2), pde_rhs)\n",
        "        equations.append(eq)\n",
        "\n",
        "        # Define initial condition: u(x, 0) = cos(k*x)\n",
        "        ic = (lambdify(x, cos(i * x), modules=\"numpy\"), lambdify(x, cos(i * x), modules=\"numpy\"))\n",
        "        initial_conditions.append(ic)\n",
        "\n",
        "        # Define boundary conditions: u(0, t) = 0, u(1, t) = sin(k*t)\n",
        "        bc1 = (0, lambdify(t, 0, modules=\"numpy\"))  # u(0, t) = 0\n",
        "        bc2 = (1, lambdify(t, sin(i * t), modules=\"numpy\"))  # u(1, t) = sin(k*t)\n",
        "        boundary_conditions.append((bc1, bc2))\n",
        "\n",
        "    return equations, initial_conditions, boundary_conditions"
      ],
      "metadata": {
        "id": "_t056qkBc84D"
      },
      "execution_count": 73,
      "outputs": []
    },
    {
      "cell_type": "code",
      "source": [
        "# Display equations in LaTeX format\n",
        "def display_equations(equations, initial_conditions, boundary_conditions):\n",
        "    for i, (eq, ic, bc) in enumerate(zip(equations, initial_conditions, boundary_conditions)):\n",
        "        print(f\"Equation {i+1}:\")\n",
        "        display(Math(f\"PDE: {latex(eq)}\"))\n",
        "        display(Math(f\"Initial Condition: u(x, 0) = {latex(cos((i+1) * symbols('x')))}\"))\n",
        "        display(Math(f\"Boundary Conditions: u(0, t) = 0, u(1, t) = {latex(sin((i+1) * symbols('t')))}\"))\n",
        "        print()"
      ],
      "metadata": {
        "id": "aXLCNggDc_ZC"
      },
      "execution_count": 74,
      "outputs": []
    },
    {
      "cell_type": "code",
      "source": [
        "# Numerical solution using a finite difference method (example)\n",
        "def solve_equation_numerically(equation, initial_condition, boundary_condition, x_range, t_range, dx, dt):\n",
        "    \"\"\"\n",
        "    Solve the PDE numerically using the finite difference method.\n",
        "    Args:\n",
        "        equation: The PDE (not used in this minimal example).\n",
        "        initial_condition: Function for u(x, 0).\n",
        "        boundary_condition: Tuple of boundary conditions [(x0, u(x0, t)), (x1, u(x1, t))].\n",
        "        x_range: Range of x values (tuple).\n",
        "        t_range: Range of t values (tuple).\n",
        "        dx: Step size in x.\n",
        "        dt: Step size in t.\n",
        "    Returns:\n",
        "        u: Numerical solution as a 2D array.\n",
        "    \"\"\"\n",
        "    x0, x1 = x_range\n",
        "    t0, t1 = t_range\n",
        "    nx = int((x1 - x0) / dx) + 1\n",
        "    nt = int((t1 - t0) / dt) + 1\n",
        "    x = np.linspace(x0, x1, nx)\n",
        "    t = np.linspace(t0, t1, nt)\n",
        "\n",
        "    u = np.zeros((nt, nx))\n",
        "    u[0, :] = initial_condition(x)  # Apply initial condition\n",
        "\n",
        "    for n in range(1, nt):\n",
        "        u[n, 0] = boundary_condition[0][1](t[n])  # Apply BC at x=0\n",
        "        u[n, -1] = boundary_condition[1][1](t[n])  # Apply BC at x=1\n",
        "        for i in range(1, nx - 1):\n",
        "            u[n, i] = u[n - 1, i]  # Simplified for demonstration (to be replaced with actual update rule)\n",
        "\n",
        "    return x, t, u\n",
        "\n",
        "# Plot numerical solution\n",
        "def plot_solution(x, t, u, title=\"Numerical Solution\"):\n",
        "    plt.figure(figsize=(10, 6))\n",
        "    plt.contourf(x, t, u, levels=50, cmap=\"viridis\")\n",
        "    plt.colorbar()\n",
        "    plt.xlabel(\"x\")\n",
        "    plt.ylabel(\"t\")\n",
        "    plt.title(title)\n",
        "    plt.show()"
      ],
      "metadata": {
        "id": "_roRGjsFdBe_"
      },
      "execution_count": 75,
      "outputs": []
    },
    {
      "cell_type": "code",
      "source": [
        "# Main execution\n",
        "if __name__ == \"__main__\":\n",
        "    # Generate equations with initial and boundary conditions\n",
        "    equations, initial_conditions, boundary_conditions = generate_equations_and_conditions()\n",
        "\n",
        "    # Display the equations\n",
        "    display_equations(equations, initial_conditions, boundary_conditions)\n",
        "\n",
        "    # Solve the first equation numerically (as an example)\n",
        "    x_range = (0, 1)\n",
        "    t_range = (0, 1)\n",
        "    dx = 0.01\n",
        "    dt = 0.01\n",
        "\n",
        "    x, t, u = solve_equation_numerically(\n",
        "        equations[0],\n",
        "        initial_conditions[0][0],\n",
        "        boundary_conditions[0],\n",
        "        x_range,\n",
        "        t_range,\n",
        "        dx,\n",
        "        dt,\n",
        "    )\n",
        "\n",
        "    # Plot the numerical solution\n",
        "    plot_solution(x, t, u, title=\"Numerical Solution for Equation 1\")"
      ],
      "metadata": {
        "colab": {
          "base_uri": "https://localhost:8080/",
          "height": 1000
        },
        "id": "ZlX58BS1dJmd",
        "outputId": "e2b8b52a-347b-4a6e-ae4a-88ef8309ab51"
      },
      "execution_count": 76,
      "outputs": [
        {
          "output_type": "stream",
          "name": "stdout",
          "text": [
            "Equation 1:\n"
          ]
        },
        {
          "output_type": "display_data",
          "data": {
            "text/plain": [
              "<IPython.core.display.Math object>"
            ],
            "text/latex": "$\\displaystyle PDE: \\frac{\\partial^{2}}{\\partial t^{2}} u{\\left(x,t \\right)} + \\frac{\\partial^{2}}{\\partial x^{2}} u{\\left(x,t \\right)} = \\sin{\\left(x \\right)} \\cos{\\left(t \\right)}$"
          },
          "metadata": {}
        },
        {
          "output_type": "display_data",
          "data": {
            "text/plain": [
              "<IPython.core.display.Math object>"
            ],
            "text/latex": "$\\displaystyle Initial Condition: u(x, 0) = \\cos{\\left(x \\right)}$"
          },
          "metadata": {}
        },
        {
          "output_type": "display_data",
          "data": {
            "text/plain": [
              "<IPython.core.display.Math object>"
            ],
            "text/latex": "$\\displaystyle Boundary Conditions: u(0, t) = 0, u(1, t) = \\sin{\\left(t \\right)}$"
          },
          "metadata": {}
        },
        {
          "output_type": "stream",
          "name": "stdout",
          "text": [
            "\n",
            "Equation 2:\n"
          ]
        },
        {
          "output_type": "display_data",
          "data": {
            "text/plain": [
              "<IPython.core.display.Math object>"
            ],
            "text/latex": "$\\displaystyle PDE: \\frac{\\partial^{2}}{\\partial t^{2}} u{\\left(x,t \\right)} + 2 \\frac{\\partial^{2}}{\\partial x^{2}} u{\\left(x,t \\right)} = \\sin{\\left(2 x \\right)} \\cos{\\left(2 t \\right)}$"
          },
          "metadata": {}
        },
        {
          "output_type": "display_data",
          "data": {
            "text/plain": [
              "<IPython.core.display.Math object>"
            ],
            "text/latex": "$\\displaystyle Initial Condition: u(x, 0) = \\cos{\\left(2 x \\right)}$"
          },
          "metadata": {}
        },
        {
          "output_type": "display_data",
          "data": {
            "text/plain": [
              "<IPython.core.display.Math object>"
            ],
            "text/latex": "$\\displaystyle Boundary Conditions: u(0, t) = 0, u(1, t) = \\sin{\\left(2 t \\right)}$"
          },
          "metadata": {}
        },
        {
          "output_type": "stream",
          "name": "stdout",
          "text": [
            "\n",
            "Equation 3:\n"
          ]
        },
        {
          "output_type": "display_data",
          "data": {
            "text/plain": [
              "<IPython.core.display.Math object>"
            ],
            "text/latex": "$\\displaystyle PDE: \\frac{\\partial^{2}}{\\partial t^{2}} u{\\left(x,t \\right)} + 3 \\frac{\\partial^{2}}{\\partial x^{2}} u{\\left(x,t \\right)} = \\sin{\\left(3 x \\right)} \\cos{\\left(3 t \\right)}$"
          },
          "metadata": {}
        },
        {
          "output_type": "display_data",
          "data": {
            "text/plain": [
              "<IPython.core.display.Math object>"
            ],
            "text/latex": "$\\displaystyle Initial Condition: u(x, 0) = \\cos{\\left(3 x \\right)}$"
          },
          "metadata": {}
        },
        {
          "output_type": "display_data",
          "data": {
            "text/plain": [
              "<IPython.core.display.Math object>"
            ],
            "text/latex": "$\\displaystyle Boundary Conditions: u(0, t) = 0, u(1, t) = \\sin{\\left(3 t \\right)}$"
          },
          "metadata": {}
        },
        {
          "output_type": "stream",
          "name": "stdout",
          "text": [
            "\n",
            "Equation 4:\n"
          ]
        },
        {
          "output_type": "display_data",
          "data": {
            "text/plain": [
              "<IPython.core.display.Math object>"
            ],
            "text/latex": "$\\displaystyle PDE: \\frac{\\partial^{2}}{\\partial t^{2}} u{\\left(x,t \\right)} + 4 \\frac{\\partial^{2}}{\\partial x^{2}} u{\\left(x,t \\right)} = \\sin{\\left(4 x \\right)} \\cos{\\left(4 t \\right)}$"
          },
          "metadata": {}
        },
        {
          "output_type": "display_data",
          "data": {
            "text/plain": [
              "<IPython.core.display.Math object>"
            ],
            "text/latex": "$\\displaystyle Initial Condition: u(x, 0) = \\cos{\\left(4 x \\right)}$"
          },
          "metadata": {}
        },
        {
          "output_type": "display_data",
          "data": {
            "text/plain": [
              "<IPython.core.display.Math object>"
            ],
            "text/latex": "$\\displaystyle Boundary Conditions: u(0, t) = 0, u(1, t) = \\sin{\\left(4 t \\right)}$"
          },
          "metadata": {}
        },
        {
          "output_type": "stream",
          "name": "stdout",
          "text": [
            "\n",
            "Equation 5:\n"
          ]
        },
        {
          "output_type": "display_data",
          "data": {
            "text/plain": [
              "<IPython.core.display.Math object>"
            ],
            "text/latex": "$\\displaystyle PDE: \\frac{\\partial^{2}}{\\partial t^{2}} u{\\left(x,t \\right)} + 5 \\frac{\\partial^{2}}{\\partial x^{2}} u{\\left(x,t \\right)} = \\sin{\\left(5 x \\right)} \\cos{\\left(5 t \\right)}$"
          },
          "metadata": {}
        },
        {
          "output_type": "display_data",
          "data": {
            "text/plain": [
              "<IPython.core.display.Math object>"
            ],
            "text/latex": "$\\displaystyle Initial Condition: u(x, 0) = \\cos{\\left(5 x \\right)}$"
          },
          "metadata": {}
        },
        {
          "output_type": "display_data",
          "data": {
            "text/plain": [
              "<IPython.core.display.Math object>"
            ],
            "text/latex": "$\\displaystyle Boundary Conditions: u(0, t) = 0, u(1, t) = \\sin{\\left(5 t \\right)}$"
          },
          "metadata": {}
        },
        {
          "output_type": "stream",
          "name": "stdout",
          "text": [
            "\n",
            "Equation 6:\n"
          ]
        },
        {
          "output_type": "display_data",
          "data": {
            "text/plain": [
              "<IPython.core.display.Math object>"
            ],
            "text/latex": "$\\displaystyle PDE: \\frac{\\partial^{2}}{\\partial t^{2}} u{\\left(x,t \\right)} + 6 \\frac{\\partial^{2}}{\\partial x^{2}} u{\\left(x,t \\right)} = \\sin{\\left(6 x \\right)} \\cos{\\left(6 t \\right)}$"
          },
          "metadata": {}
        },
        {
          "output_type": "display_data",
          "data": {
            "text/plain": [
              "<IPython.core.display.Math object>"
            ],
            "text/latex": "$\\displaystyle Initial Condition: u(x, 0) = \\cos{\\left(6 x \\right)}$"
          },
          "metadata": {}
        },
        {
          "output_type": "display_data",
          "data": {
            "text/plain": [
              "<IPython.core.display.Math object>"
            ],
            "text/latex": "$\\displaystyle Boundary Conditions: u(0, t) = 0, u(1, t) = \\sin{\\left(6 t \\right)}$"
          },
          "metadata": {}
        },
        {
          "output_type": "stream",
          "name": "stdout",
          "text": [
            "\n",
            "Equation 7:\n"
          ]
        },
        {
          "output_type": "display_data",
          "data": {
            "text/plain": [
              "<IPython.core.display.Math object>"
            ],
            "text/latex": "$\\displaystyle PDE: \\frac{\\partial^{2}}{\\partial t^{2}} u{\\left(x,t \\right)} + 7 \\frac{\\partial^{2}}{\\partial x^{2}} u{\\left(x,t \\right)} = \\sin{\\left(7 x \\right)} \\cos{\\left(7 t \\right)}$"
          },
          "metadata": {}
        },
        {
          "output_type": "display_data",
          "data": {
            "text/plain": [
              "<IPython.core.display.Math object>"
            ],
            "text/latex": "$\\displaystyle Initial Condition: u(x, 0) = \\cos{\\left(7 x \\right)}$"
          },
          "metadata": {}
        },
        {
          "output_type": "display_data",
          "data": {
            "text/plain": [
              "<IPython.core.display.Math object>"
            ],
            "text/latex": "$\\displaystyle Boundary Conditions: u(0, t) = 0, u(1, t) = \\sin{\\left(7 t \\right)}$"
          },
          "metadata": {}
        },
        {
          "output_type": "stream",
          "name": "stdout",
          "text": [
            "\n",
            "Equation 8:\n"
          ]
        },
        {
          "output_type": "display_data",
          "data": {
            "text/plain": [
              "<IPython.core.display.Math object>"
            ],
            "text/latex": "$\\displaystyle PDE: \\frac{\\partial^{2}}{\\partial t^{2}} u{\\left(x,t \\right)} + 8 \\frac{\\partial^{2}}{\\partial x^{2}} u{\\left(x,t \\right)} = \\sin{\\left(8 x \\right)} \\cos{\\left(8 t \\right)}$"
          },
          "metadata": {}
        },
        {
          "output_type": "display_data",
          "data": {
            "text/plain": [
              "<IPython.core.display.Math object>"
            ],
            "text/latex": "$\\displaystyle Initial Condition: u(x, 0) = \\cos{\\left(8 x \\right)}$"
          },
          "metadata": {}
        },
        {
          "output_type": "display_data",
          "data": {
            "text/plain": [
              "<IPython.core.display.Math object>"
            ],
            "text/latex": "$\\displaystyle Boundary Conditions: u(0, t) = 0, u(1, t) = \\sin{\\left(8 t \\right)}$"
          },
          "metadata": {}
        },
        {
          "output_type": "stream",
          "name": "stdout",
          "text": [
            "\n",
            "Equation 9:\n"
          ]
        },
        {
          "output_type": "display_data",
          "data": {
            "text/plain": [
              "<IPython.core.display.Math object>"
            ],
            "text/latex": "$\\displaystyle PDE: \\frac{\\partial^{2}}{\\partial t^{2}} u{\\left(x,t \\right)} + 9 \\frac{\\partial^{2}}{\\partial x^{2}} u{\\left(x,t \\right)} = \\sin{\\left(9 x \\right)} \\cos{\\left(9 t \\right)}$"
          },
          "metadata": {}
        },
        {
          "output_type": "display_data",
          "data": {
            "text/plain": [
              "<IPython.core.display.Math object>"
            ],
            "text/latex": "$\\displaystyle Initial Condition: u(x, 0) = \\cos{\\left(9 x \\right)}$"
          },
          "metadata": {}
        },
        {
          "output_type": "display_data",
          "data": {
            "text/plain": [
              "<IPython.core.display.Math object>"
            ],
            "text/latex": "$\\displaystyle Boundary Conditions: u(0, t) = 0, u(1, t) = \\sin{\\left(9 t \\right)}$"
          },
          "metadata": {}
        },
        {
          "output_type": "stream",
          "name": "stdout",
          "text": [
            "\n",
            "Equation 10:\n"
          ]
        },
        {
          "output_type": "display_data",
          "data": {
            "text/plain": [
              "<IPython.core.display.Math object>"
            ],
            "text/latex": "$\\displaystyle PDE: \\frac{\\partial^{2}}{\\partial t^{2}} u{\\left(x,t \\right)} + 10 \\frac{\\partial^{2}}{\\partial x^{2}} u{\\left(x,t \\right)} = \\sin{\\left(10 x \\right)} \\cos{\\left(10 t \\right)}$"
          },
          "metadata": {}
        },
        {
          "output_type": "display_data",
          "data": {
            "text/plain": [
              "<IPython.core.display.Math object>"
            ],
            "text/latex": "$\\displaystyle Initial Condition: u(x, 0) = \\cos{\\left(10 x \\right)}$"
          },
          "metadata": {}
        },
        {
          "output_type": "display_data",
          "data": {
            "text/plain": [
              "<IPython.core.display.Math object>"
            ],
            "text/latex": "$\\displaystyle Boundary Conditions: u(0, t) = 0, u(1, t) = \\sin{\\left(10 t \\right)}$"
          },
          "metadata": {}
        },
        {
          "output_type": "stream",
          "name": "stdout",
          "text": [
            "\n"
          ]
        },
        {
          "output_type": "display_data",
          "data": {
            "text/plain": [
              "<Figure size 1000x600 with 2 Axes>"
            ],
            "image/png": "[encoded data removed]"
          },
          "metadata": {}
        }
      ]
    },
    {
      "cell_type": "code",
      "source": [],
      "metadata": {
        "id": "-mpQgjkOdKBT"
      },
      "execution_count": null,
      "outputs": []
    }
  ]
}