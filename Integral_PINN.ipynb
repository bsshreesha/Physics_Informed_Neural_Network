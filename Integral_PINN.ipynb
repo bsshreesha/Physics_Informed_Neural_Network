{
  "nbformat": 4,
  "nbformat_minor": 0,
  "metadata": {
    "colab": {
      "provenance": [],
      "authorship_tag": "ABX9TyNpQw0nSzt+/S7w/iuIEIH9",
      "include_colab_link": true
    },
    "kernelspec": {
      "name": "python3",
      "display_name": "Python 3"
    },
    "language_info": {
      "name": "python"
    }
  },
  "cells": [
    {
      "cell_type": "markdown",
      "metadata": {
        "id": "view-in-github",
        "colab_type": "text"
      },
      "source": [
        "<a href=\"https://colab.research.google.com/github/bsshreesha/Physics_Informed_Neural_Network/blob/main/Integral_PINN.ipynb\" target=\"_parent\"><img src=\"https://colab.research.google.com/assets/colab-badge.svg\" alt=\"Open In Colab\"/></a>"
      ]
    },
    {
      "cell_type": "code",
      "execution_count": 1,
      "metadata": {
        "id": "AttyJ8nZc7q4"
      },
      "outputs": [],
      "source": [
        "import tensorflow as tf\n",
        "import numpy as np"
      ]
    },
    {
      "cell_type": "code",
      "source": [
        "# Define the neural network architecture\n",
        "class PINN(tf.keras.Model):\n",
        "    def __init__(self):\n",
        "        super(PINN, self).__init__()\n",
        "        self.dense1 = tf.keras.layers.Dense(32, activation='relu')\n",
        "        self.dense2 = tf.keras.layers.Dense(32, activation='relu')\n",
        "        self.dense3 = tf.keras.layers.Dense(1)\n",
        "\n",
        "    def call(self, x):\n",
        "        x = self.dense1(x)\n",
        "        x = self.dense2(x)\n",
        "        return self.dense3(x)\n",
        "\n",
        "# Define the PINN model\n",
        "model = PINN()"
      ],
      "metadata": {
        "id": "A3iWJdbfdAtP"
      },
      "execution_count": 2,
      "outputs": []
    },
    {
      "cell_type": "code",
      "source": [
        "# Define the optimizer\n",
        "optimizer = tf.keras.optimizers.Adam(learning_rate=0.001)\n",
        "\n",
        "# Define the loss function for the integral\n",
        "def integral_loss(model):\n",
        "    # Define the integral bounds\n",
        "    lower_bound = 0.0\n",
        "    upper_bound = 1.0\n",
        "\n",
        "    # Sample points within the integral bounds\n",
        "    x = tf.linspace(lower_bound, upper_bound, 100)[:, None]\n",
        "\n",
        "    # Compute the neural network output\n",
        "    y = model(x)\n",
        "\n",
        "    # Compute the integral using the trapezoidal rule\n",
        "    integral = tf.reduce_sum((y[:-1] + y[1:]) * (x[1:] - x[:-1])) / 2.0\n",
        "\n",
        "    # Define the target integral value\n",
        "    target_integral = 1.0 / 3.0\n",
        "\n",
        "    # Compute the loss\n",
        "    loss = tf.reduce_mean(tf.square(integral - target_integral))\n",
        "\n",
        "    return loss"
      ],
      "metadata": {
        "id": "EE8YOPIedGNv"
      },
      "execution_count": 3,
      "outputs": []
    },
    {
      "cell_type": "code",
      "source": [
        "# Training loop\n",
        "epochs = 1000\n",
        "for epoch in range(epochs):\n",
        "    with tf.GradientTape() as tape:\n",
        "        loss = integral_loss(model)\n",
        "\n",
        "    gradients = tape.gradient(loss, model.trainable_variables)\n",
        "    optimizer.apply_gradients(zip(gradients, model.trainable_variables))\n",
        "\n",
        "    if epoch % 100 == 0:\n",
        "        print(f\"Epoch {epoch}, Loss: {loss.numpy()}\")\n",
        "\n",
        "# Evaluate the integral using the trained model\n",
        "x = tf.linspace(0.0, 1.0, 100)[:, None]\n",
        "y = model(x)\n",
        "integral = tf.reduce_sum((y[:-1] + y[1:]) * (x[1:] - x[:-1])) / 2.0\n",
        "\n",
        "print(f\"Estimated Integral: {integral.numpy()}\")\n",
        "print(f\"Exact Integral: {1.0 / 3.0}\")"
      ],
      "metadata": {
        "colab": {
          "base_uri": "https://localhost:8080/"
        },
        "id": "duQJaR6odGGf",
        "outputId": "00c4df95-33bf-4c3c-8ea9-31b22d273b90"
      },
      "execution_count": 4,
      "outputs": [
        {
          "output_type": "stream",
          "name": "stdout",
          "text": [
            "Epoch 0, Loss: 0.13069696724414825\n",
            "Epoch 100, Loss: 6.3783431869524065e-06\n",
            "Epoch 200, Loss: 3.8057557105730666e-11\n",
            "Epoch 300, Loss: 3.552713678800501e-15\n",
            "Epoch 400, Loss: 0.0\n",
            "Epoch 500, Loss: 0.0\n",
            "Epoch 600, Loss: 0.0\n",
            "Epoch 700, Loss: 0.0\n",
            "Epoch 800, Loss: 0.0\n",
            "Epoch 900, Loss: 0.0\n",
            "Estimated Integral: 0.3333333432674408\n",
            "Exact Integral: 0.3333333333333333\n"
          ]
        }
      ]
    },
    {
      "cell_type": "code",
      "source": [],
      "metadata": {
        "id": "nkgE9iMxdPi5"
      },
      "execution_count": null,
      "outputs": []
    }
  ]
}